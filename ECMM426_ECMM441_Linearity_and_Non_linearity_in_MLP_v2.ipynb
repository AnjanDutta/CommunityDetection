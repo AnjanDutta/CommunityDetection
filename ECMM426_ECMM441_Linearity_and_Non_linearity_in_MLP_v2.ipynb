{
  "nbformat": 4,
  "nbformat_minor": 0,
  "metadata": {
    "colab": {
      "name": "ECMM426_ECMM441_Linearity_and_Non_linearity_in_MLP_v2.ipynb",
      "provenance": [],
      "collapsed_sections": [],
      "include_colab_link": true
    },
    "kernelspec": {
      "name": "python3",
      "language": "python",
      "display_name": "Python 3"
    }
  },
  "cells": [
    {
      "cell_type": "markdown",
      "metadata": {
        "id": "view-in-github",
        "colab_type": "text"
      },
      "source": [
        "<a href=\"https://colab.research.google.com/github/AnjanDutta/CommunityDetection/blob/master/ECMM426_ECMM441_Linearity_and_Non_linearity_in_MLP_v2.ipynb\" target=\"_parent\"><img src=\"https://colab.research.google.com/assets/colab-badge.svg\" alt=\"Open In Colab\"/></a>"
      ]
    },
    {
      "cell_type": "markdown",
      "metadata": {
        "id": "D_5Tkl9SzhjN",
        "pycharm": {}
      },
      "source": [
        "<H1 style=\"text-align: center\">ECMM426 - Computer Vision / ECMM441 - Machine Vision (Professional)</H1>\n",
        "<H1 style=\"text-align: center\">Workshop 6</H1>\n",
        "<H1 style=\"text-align: center\">Linearity and Non-linearity</H1>"
      ]
    },
    {
      "cell_type": "markdown",
      "metadata": {
        "id": "XTncXu7WbNGi",
        "pycharm": {}
      },
      "source": [
        "#Regression\n",
        "Train a function $f$ to map features to continuous targets.\n",
        "\\begin{equation}\n",
        "f : x \\rightarrow y\n",
        "\\end{equation}\n",
        "\\begin{equation}\n",
        "y = f(x; \\mathbf{w})\n",
        "\\end{equation}\n",
        "Example:\n",
        "\\begin{equation}\n",
        "y = f(x; \\mathbf{w}) = 5x^2 + 3\n",
        "\\end{equation}"
      ]
    },
    {
      "cell_type": "code",
      "metadata": {
        "id": "6EumwScCeQB9",
        "pycharm": {}
      },
      "source": [
        "import numpy as np\n",
        "import matplotlib.pyplot as plt\n",
        "x = np.random.uniform(-100, 100, 1000)\n",
        "y = 5*(x*x) + 3\n",
        "plt.scatter(x, y, s=10);"
      ],
      "execution_count": null,
      "outputs": []
    },
    {
      "cell_type": "markdown",
      "metadata": {
        "id": "LkP8Ex64ZWoE",
        "pycharm": {}
      },
      "source": [
        "###Same input and output layer (without hidden layer meaning without non-linearity)"
      ]
    },
    {
      "cell_type": "code",
      "metadata": {
        "id": "ASh_nf00me7q",
        "pycharm": {}
      },
      "source": [
        "from sklearn.neural_network import MLPRegressor\n",
        "x2 = np.random.uniform(-100, 100, 1000)\n",
        "f = MLPRegressor(hidden_layer_sizes=(), solver='lbfgs', activation='logistic', max_iter=1000).fit(x.reshape(-1, 1), y)\n",
        "pred = f.predict(x2.reshape(-1, 1))\n",
        "plt.scatter(x, y, s=10, label='Train')\n",
        "plt.scatter(x2, pred, s=5, alpha=0.5, label='Test')\n",
        "plt.legend();"
      ],
      "execution_count": null,
      "outputs": []
    },
    {
      "cell_type": "markdown",
      "metadata": {
        "id": "6uRzPrh8ZqY8",
        "pycharm": {}
      },
      "source": [
        "###Hidden layers with identity activation (with hidden layer, without non-linearity)"
      ]
    },
    {
      "cell_type": "code",
      "metadata": {
        "id": "Om0VK_w4ZpkL",
        "pycharm": {}
      },
      "source": [
        "f = MLPRegressor(hidden_layer_sizes=(10,), solver='lbfgs', activation='identity', max_iter=1000).fit(x.reshape(-1, 1), y)\n",
        "pred = f.predict(x2.reshape(-1, 1))\n",
        "plt.scatter(x, y, s=10, label='Train')\n",
        "plt.scatter(x2, pred, s=5, alpha=0.5, label='Test')\n",
        "plt.legend();"
      ],
      "execution_count": null,
      "outputs": []
    },
    {
      "cell_type": "markdown",
      "metadata": {
        "id": "EsGRDHvgaTMu",
        "pycharm": {}
      },
      "source": [
        "###Hidden layers with `ReLU` non-linearity (with hidden layer, with non-linearity)"
      ]
    },
    {
      "cell_type": "code",
      "metadata": {
        "id": "vHatXpYqalbV",
        "pycharm": {}
      },
      "source": [
        "f = MLPRegressor(hidden_layer_sizes=(10,), solver='lbfgs', activation='relu', max_iter=10000).fit(x.reshape(-1, 1), y)\n",
        "pred = f.predict(x2.reshape(-1, 1))\n",
        "plt.scatter(x, y, s=10, label='Train')\n",
        "plt.scatter(x2, pred, s=5, alpha=0.5, label='Test')\n",
        "plt.legend();"
      ],
      "execution_count": null,
      "outputs": []
    },
    {
      "cell_type": "markdown",
      "metadata": {
        "id": "0_gnaGfJfp5B",
        "pycharm": {}
      },
      "source": [
        "#Classification"
      ]
    },
    {
      "cell_type": "markdown",
      "metadata": {
        "id": "qYuSniLMmmse",
        "pycharm": {}
      },
      "source": [
        "Train a machine $f$ to map features to targets\n",
        "\\begin{equation}\n",
        "f : x \\rightarrow y\n",
        "\\end{equation}\n",
        "\\begin{equation}\n",
        "y = f(x; \\mathbf{w})\n",
        "\\end{equation}"
      ]
    },
    {
      "cell_type": "code",
      "metadata": {
        "id": "Br2wflKWj4uY",
        "pycharm": {}
      },
      "source": [
        "from sklearn.datasets import make_moons\n",
        "X, y = make_moons(n_samples=1000, noise=0.3, random_state=42)\n",
        "id0 = y == 0\n",
        "id1 = y == 1\n",
        "plt.plot(X[id0, 0], X[id0, 1], 'bo', label='0')\n",
        "plt.plot(X[id1, 0], X[id1, 1], 'ro', label='1')\n",
        "plt.legend(loc=2)"
      ],
      "execution_count": null,
      "outputs": []
    },
    {
      "cell_type": "markdown",
      "metadata": {
        "id": "oSGEaGdlnO9U",
        "pycharm": {}
      },
      "source": [
        "###Train and test splits"
      ]
    },
    {
      "cell_type": "code",
      "metadata": {
        "id": "Z0ts4ZPokMvb",
        "pycharm": {}
      },
      "source": [
        "from sklearn.model_selection import train_test_split\n",
        "X_train, X_test, y_train, y_test = train_test_split(X, y)"
      ],
      "execution_count": null,
      "outputs": []
    },
    {
      "cell_type": "markdown",
      "metadata": {
        "id": "WYk9k1xinhCd",
        "pycharm": {}
      },
      "source": [
        "###Same input and output layer (without hidden layer meaning without non-linearity)"
      ]
    },
    {
      "cell_type": "code",
      "metadata": {
        "id": "3El-kCDRkSkp",
        "pycharm": {}
      },
      "source": [
        "from sklearn.neural_network import MLPClassifier\n",
        "from sklearn.metrics import accuracy_score\n",
        "f = MLPClassifier(hidden_layer_sizes=(), solver='lbfgs', max_iter=1000).fit(X_train, y_train)\n",
        "y_pred = f.predict(X_test)\n",
        "print(accuracy_score(y_pred, y_test))"
      ],
      "execution_count": null,
      "outputs": []
    },
    {
      "cell_type": "markdown",
      "metadata": {
        "id": "0lwteALypp7u",
        "pycharm": {}
      },
      "source": [
        "####Plot decision boundary function"
      ]
    },
    {
      "cell_type": "code",
      "metadata": {
        "id": "Von_ukXXlaWX",
        "pycharm": {}
      },
      "source": [
        "from matplotlib.colors import ListedColormap\n",
        "def plot_decision_boundary(clf, X, y, axes=[-1.5, 2.5, -1, 1.5], alpha=0.5, contour=True):\n",
        "    x1s = np.linspace(axes[0], axes[1], 100)\n",
        "    x2s = np.linspace(axes[2], axes[3], 100)\n",
        "    x1, x2 = np.meshgrid(x1s, x2s)\n",
        "    X_new = np.c_[x1.ravel(), x2.ravel()]\n",
        "    y_pred = clf.predict(X_new).reshape(x1.shape)\n",
        "    custom_cmap = ListedColormap(['#fafab0','#9898ff','#a0faa0'])\n",
        "    plt.contourf(x1, x2, y_pred, alpha=0.3, cmap=custom_cmap)\n",
        "    if contour:\n",
        "        custom_cmap2 = ListedColormap(['#7d7d58','#4c4c7f','#507d50'])\n",
        "        plt.contour(x1, x2, y_pred, cmap=custom_cmap2, alpha=0.8)\n",
        "    plt.plot(X[:, 0][y==0], X[:, 1][y==0], \"yo\", alpha=alpha)\n",
        "    plt.plot(X[:, 0][y==1], X[:, 1][y==1], \"bs\", alpha=alpha)\n",
        "    plt.axis(axes)\n",
        "    plt.xlabel(r\"$x_1$\", fontsize=18)\n",
        "    plt.ylabel(r\"$x_2$\", fontsize=18, rotation=0)"
      ],
      "execution_count": null,
      "outputs": []
    },
    {
      "cell_type": "code",
      "metadata": {
        "id": "F-KkskhXmJ9z",
        "pycharm": {}
      },
      "source": [
        "plot_decision_boundary(f, X, y)"
      ],
      "execution_count": null,
      "outputs": []
    },
    {
      "cell_type": "markdown",
      "metadata": {
        "id": "-jZW4xIvosJx",
        "pycharm": {}
      },
      "source": [
        "###Hidden layers with identity activation (with hidden layer, without non-linearity)"
      ]
    },
    {
      "cell_type": "code",
      "metadata": {
        "id": "fxNCHOccosJ9",
        "pycharm": {}
      },
      "source": [
        "from sklearn.neural_network import MLPClassifier\n",
        "from sklearn.metrics import accuracy_score\n",
        "f = MLPClassifier(hidden_layer_sizes=(10,), solver='lbfgs', activation='identity', max_iter=1000).fit(X_train, y_train)\n",
        "y_pred = f.predict(X_test)\n",
        "print(accuracy_score(y_pred, y_test))\n",
        "plot_decision_boundary(f, X, y)"
      ],
      "execution_count": null,
      "outputs": []
    },
    {
      "cell_type": "markdown",
      "metadata": {
        "id": "cnvSlYqupSic",
        "pycharm": {}
      },
      "source": [
        "###Hidden layers with `ReLU` non-linearity (with hidden layer, with non-linearity)"
      ]
    },
    {
      "cell_type": "code",
      "metadata": {
        "id": "BfnCMjFtpBkM",
        "pycharm": {}
      },
      "source": [
        "from sklearn.neural_network import MLPClassifier\n",
        "from sklearn.metrics import accuracy_score\n",
        "f = MLPClassifier(hidden_layer_sizes=(10,), solver='lbfgs', activation='relu', max_iter=1000).fit(X_train, y_train)\n",
        "y_pred = f.predict(X_test)\n",
        "print(accuracy_score(y_pred, y_test))\n",
        "plot_decision_boundary(f, X, y)"
      ],
      "execution_count": null,
      "outputs": []
    }
  ]
}